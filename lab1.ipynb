{
 "cells": [
  {
   "cell_type": "code",
   "execution_count": 1,
   "id": "initial_id",
   "metadata": {
    "collapsed": true,
    "ExecuteTime": {
     "end_time": "2024-10-09T09:31:08.056288700Z",
     "start_time": "2024-10-09T09:31:05.610533900Z"
    }
   },
   "outputs": [],
   "source": [
    "import matplotlib.pyplot as plt\n",
    "import numpy as np\n",
    "from math import exp, log10\n",
    "import pandas as pd"
   ]
  },
  {
   "cell_type": "markdown",
   "source": [
    "# Exercise 1"
   ],
   "metadata": {
    "collapsed": false
   },
   "id": "76564a6b8a0afc6f"
  },
  {
   "cell_type": "code",
   "execution_count": 3,
   "outputs": [],
   "source": [
    "def diff_equ(arg):\n",
    "   \"\"\"\n",
    "   Function to calculate the value of the differential equation\n",
    "   Args:\n",
    "      arg: argument\n",
    "\n",
    "   Returns: value of the differential equation\n",
    "\n",
    "   \"\"\"\n",
    "   return arg*(arg-1)*(arg-2)"
   ],
   "metadata": {
    "collapsed": false,
    "ExecuteTime": {
     "end_time": "2024-10-09T09:56:29.645036Z",
     "start_time": "2024-10-09T09:56:29.620679800Z"
    }
   },
   "id": "43fa553e8104e802"
  },
  {
   "cell_type": "code",
   "execution_count": 6,
   "outputs": [],
   "source": [
    "def euler_method(t_p, t_k, h, x_0, fun):\n",
    "  \"\"\"\n",
    "   Function to calculate the fixed points using the Euler method\n",
    "    \n",
    "  Args:\n",
    "     t_p: start time\n",
    "     t_k: end time\n",
    "     h: step\n",
    "     x_0: starting point\n",
    "     fun: differential equation\n",
    "\n",
    "  Returns: fixed points, time points, last fixed point, number of iterations\n",
    "\n",
    "  \"\"\"\n",
    "  x_old = x_0\n",
    "  x_euler = []\n",
    "  t_euler = []\n",
    "  x_euler.append(x_old)\n",
    "  t_euler.append(t_p)\n",
    "  count_euler = 0\n",
    "  for t in np.arange(t_p, t_k, h):\n",
    "    t_euler.append(t+h)\n",
    "    x_new = x_old + h*fun(x_old)\n",
    "    x_euler.append(x_new)\n",
    "    x_old = x_new\n",
    "    count_euler += 1\n",
    "  return t_euler, x_euler, x_old, count_euler"
   ],
   "metadata": {
    "collapsed": false,
    "ExecuteTime": {
     "end_time": "2024-10-09T09:57:35.923335600Z",
     "start_time": "2024-10-09T09:57:35.893302300Z"
    }
   },
   "id": "fa2a7ab0fc981319"
  },
  {
   "cell_type": "code",
   "execution_count": 13,
   "outputs": [],
   "source": [
    "def modified_euler(t_p, t_k, h, x_0, fun):\n",
    "  \"\"\"\n",
    "  Function to calculate the fixed points using the modified Euler method\n",
    "  Args:\n",
    "    t_p: start time\n",
    "    t_k: end time\n",
    "    h: step size\n",
    "    x_0: starting point\n",
    "    fun: function to calculate the value of the differential equation\n",
    "\n",
    "  Returns:\n",
    "\n",
    "  \"\"\"\n",
    "  x_old = x_0\n",
    "  x_mod = []\n",
    "  t_mod = []\n",
    "  x_mod.append(x_old)\n",
    "  t_mod.append(t_p)\n",
    "  count_m_euler = 0\n",
    "  for t in np.arange(t_p, t_k, h):\n",
    "    t_mod.append(t+h)\n",
    "    x_half = x_old + (h/2)*fun(x_old)\n",
    "    x_new = x_old + h*fun(x_half)\n",
    "    x_mod.append(x_new)\n",
    "    x_old = x_new\n",
    "    count_m_euler += 2\n",
    "  return t_mod, x_mod, x_old, count_m_euler"
   ],
   "metadata": {
    "collapsed": false,
    "ExecuteTime": {
     "end_time": "2024-10-09T10:01:51.922526300Z",
     "start_time": "2024-10-09T10:01:51.903853800Z"
    }
   },
   "id": "423f30c4368604a2"
  },
  {
   "cell_type": "code",
   "execution_count": 9,
   "outputs": [
    {
     "data": {
      "text/plain": "[1.4,\n 1.3663999999999998,\n 1.3346788818943998,\n 1.3049597303210705,\n 1.277299896111273,\n 1.2517022104952804,\n 1.2281266236998007,\n 1.2065011723486425,\n 1.1867316325738386,\n 1.1687095782927466,\n 1.1523188172169878,\n 1.1374403307194094,\n 1.123955920295114,\n 1.1117507874070116,\n 1.1007152657147252,\n 1.0907459003251414,\n 1.0817460378938337,\n 1.073626060197072,\n 1.0663033653680754,\n 1.0597021766941275,\n 1.0537532389694797,\n 1.048393446590914,\n 1.0435654353173198,\n 1.039217160274987,\n 1.0353014757905012,\n 1.0317757274608645,\n 1.0286013630999884,\n 1.0257435664900938,\n 1.023170915947596,\n 1.020855068379261,\n 1.0187704685989096,\n 1.0168940830798612,\n 1.015205156945973,\n 1.0136849927897353,\n 1.012316749801976,\n 1.0110852616697374,\n 1.0099768717218138,\n 1.0089792838573877,\n 1.0080814278694046,\n 1.0072733378618464,\n 1.006546042552669]"
     },
     "execution_count": 9,
     "metadata": {},
     "output_type": "execute_result"
    }
   ],
   "source": [
    "euler_method(0, 4, 0.1, 1.4, diff_equ)[1]"
   ],
   "metadata": {
    "collapsed": false,
    "ExecuteTime": {
     "end_time": "2024-10-09T09:58:22.421904Z",
     "start_time": "2024-10-09T09:58:22.411333800Z"
    }
   },
   "id": "c83692c2dd8899cf"
  },
  {
   "cell_type": "code",
   "execution_count": 14,
   "outputs": [
    {
     "data": {
      "text/plain": "[1.4,\n 1.3673069946368,\n 1.33650492969509,\n 1.307672169395556,\n 1.28083229550946,\n 1.2559651740687565,\n 1.233017406138082,\n 1.2119115838448424,\n 1.19255409731557,\n 1.1748414612914695,\n 1.1586652655069443,\n 1.1439159218100656,\n 1.1304854047570878,\n 1.1182691785237584,\n 1.1071674842396306,\n 1.0970861367992604,\n 1.0879369540439923,\n 1.0796379168003538,\n 1.072113136933336,\n 1.0652926927241113,\n 1.0591123763963872,\n 1.0535133871281592,\n 1.048441993939663,\n 1.0438491859849433,\n 1.0396903225762515,\n 1.0359247913793634,\n 1.0325156803379694,\n 1.02942946677847,\n 1.0266357256248972,\n 1.0241068575711507,\n 1.0218178373019555,\n 1.0197459813393446,\n 1.017870734753402,\n 1.0161734757659506,\n 1.0146373371576218,\n 1.0132470433354763,\n 1.0119887619102539,\n 1.0108499686549308,\n 1.0098193247589848,\n 1.0088865653480275,\n 1.008042398300786]"
     },
     "execution_count": 14,
     "metadata": {},
     "output_type": "execute_result"
    }
   ],
   "source": [
    "modified_euler(0, 4, 0.1, 1.4, diff_equ)[1]"
   ],
   "metadata": {
    "collapsed": false,
    "ExecuteTime": {
     "end_time": "2024-10-09T10:01:57.304401700Z",
     "start_time": "2024-10-09T10:01:57.291909900Z"
    }
   },
   "id": "6fba326cf8c9334e"
  },
  {
   "cell_type": "code",
   "execution_count": null,
   "outputs": [],
   "source": [
    "def get_data(tab_h, method):\n",
    "  \"\"\"\n",
    "\n",
    "  Args:\n",
    "     tab_h: step sizes\n",
    "     method: type of numerical method to calculate the fixed points\n",
    "\n",
    "  Returns: cost and logarithm of the error\n",
    "\n",
    "  \"\"\"\n",
    "  cost = []\n",
    "  log_err = []\n",
    "  err = []\n",
    "  result = []\n",
    "  for step_size in tab_h:\n",
    "    solution = method(0, 4, step_size, 2, diff_equ)\n",
    "    err.append(solution[4])\n",
    "    result.append(solution[2])\n",
    "    cost.append(solution[3])\n",
    "    log_err.append(log10(solution[4]))\n",
    "  data = {\"h\": tab_h, \"wynik\": result, \"δx[%]\": err, \\\n",
    "          'log(δx)': log_err, \"koszt\": cost}\n",
    "  df = pd.DataFrame(data)\n",
    "  print(df)\n",
    "  return cost, log_err "
   ],
   "metadata": {
    "collapsed": false
   },
   "id": "ee877dd48bc94ab7"
  },
  {
   "cell_type": "code",
   "execution_count": 18,
   "outputs": [],
   "source": [
    "def RK4_method(t_p, t_k, h, x_0, fun):\n",
    "  \"\"\"\n",
    "  Function to calculate the fixed points using the Runge-Kutta method\n",
    "  Args:\n",
    "    t_p: start time\n",
    "    t_k: end time\n",
    "    h: step size\n",
    "    x_0: starting point\n",
    "    fun: function to calculate the value of the differential equation\n",
    "\n",
    "  Returns: fixed points, time points, last fixed point, number of iterations\n",
    "\n",
    "  \"\"\"\n",
    "  x_old = x_0\n",
    "  x_RK4 = []\n",
    "  t_RK4 = []\n",
    "  x_RK4.append(x_old)\n",
    "  t_RK4.append(t_p)\n",
    "  count_RK4 = 0\n",
    "  for t in np.arange(t_p, t_k, h):\n",
    "    t_RK4.append(t+h)\n",
    "    k1 = fun(x_old)\n",
    "    k2 = fun(x_old + (h*k1/2))\n",
    "    k3 = fun(x_old + (h*k2/2))\n",
    "    k4 = fun(x_old + (h*k3))\n",
    "    x_new = x_old + h*(k1 + 2*k2 + 2*k3 + k4)/6\n",
    "    x_RK4.append(x_new)\n",
    "    x_old = x_new\n",
    "    count_RK4 += 4\n",
    "  return t_RK4, x_RK4, x_old, count_RK4"
   ],
   "metadata": {
    "collapsed": false,
    "ExecuteTime": {
     "end_time": "2024-10-09T10:28:12.519922700Z",
     "start_time": "2024-10-09T10:28:12.490193500Z"
    }
   },
   "id": "e1d3c562a068fefb"
  },
  {
   "cell_type": "code",
   "execution_count": 19,
   "outputs": [
    {
     "data": {
      "text/plain": "[1.4,\n 1.3673005987877707,\n 1.33648720390051,\n 1.3076395888093117,\n 1.2807827611079179,\n 1.2558978738371265,\n 1.2329325913376386,\n 1.2118103157658064,\n 1.1924380020425982,\n 1.1747125140443297,\n 1.1585256140131692,\n 1.1437677501048615,\n 1.1303308341195506,\n 1.1181102000247256,\n 1.1070059167366586,\n 1.0969236044975639,\n 1.0877748784814212,\n 1.0794775190136068,\n 1.071955446451817,\n 1.0651385608319623,\n 1.0589624917694922,\n 1.0533682924881906,\n 1.0483021027834265,\n 1.043714798762291,\n 1.0395616419227163,\n 1.035801936177968,\n 1.0323986985034586,\n 1.0293183467388183,\n 1.026530406529119,\n 1.0240072382867202,\n 1.0217237842852418,\n 1.0196573354726435,\n 1.017787317245548,\n 1.0160950932123778,\n 1.0145637858517584,\n 1.0131781129176554,\n 1.0119242384337,\n 1.010789637141393,\n 1.0097629713096001,\n 1.0088339788682343,\n 1.0079933718917313]"
     },
     "execution_count": 19,
     "metadata": {},
     "output_type": "execute_result"
    }
   ],
   "source": [
    "RK4_method(0, 4, 0.1, 1.4, diff_equ)[1]"
   ],
   "metadata": {
    "collapsed": false,
    "ExecuteTime": {
     "end_time": "2024-10-09T10:28:14.109446300Z",
     "start_time": "2024-10-09T10:28:14.097290Z"
    }
   },
   "id": "bf4d7d98f5b34066"
  },
  {
   "cell_type": "markdown",
   "source": [
    "# Exercise 2"
   ],
   "metadata": {
    "collapsed": false
   },
   "id": "27fff0e48c7df014"
  }
 ],
 "metadata": {
  "kernelspec": {
   "display_name": "Python 3",
   "language": "python",
   "name": "python3"
  },
  "language_info": {
   "codemirror_mode": {
    "name": "ipython",
    "version": 2
   },
   "file_extension": ".py",
   "mimetype": "text/x-python",
   "name": "python",
   "nbconvert_exporter": "python",
   "pygments_lexer": "ipython2",
   "version": "2.7.6"
  }
 },
 "nbformat": 4,
 "nbformat_minor": 5
}
