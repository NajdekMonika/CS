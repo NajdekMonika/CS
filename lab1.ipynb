{
 "cells": [
  {
   "cell_type": "code",
   "execution_count": 5,
   "id": "initial_id",
   "metadata": {
    "collapsed": true,
    "ExecuteTime": {
     "end_time": "2024-10-09T11:35:22.600626200Z",
     "start_time": "2024-10-09T11:35:20.430401900Z"
    }
   },
   "outputs": [],
   "source": [
    "import matplotlib.pyplot as plt\n",
    "import numpy as np\n",
    "from math import exp, log10\n",
    "import pandas as pd"
   ]
  },
  {
   "cell_type": "markdown",
   "source": [
    "# Exercise 1"
   ],
   "metadata": {
    "collapsed": false
   },
   "id": "76564a6b8a0afc6f"
  },
  {
   "cell_type": "code",
   "execution_count": 6,
   "outputs": [],
   "source": [
    "def diff_equ(arg):\n",
    "    \"\"\"\n",
    "    Function to calculate the value of the differential equation\n",
    "    Args:\n",
    "       arg: argument\n",
    " \n",
    "    Returns: value of the differential equation\n",
    " \n",
    "    \"\"\"\n",
    "    return arg * (arg - 1) * (arg - 2)"
   ],
   "metadata": {
    "collapsed": false,
    "ExecuteTime": {
     "end_time": "2024-10-09T11:35:27.574733200Z",
     "start_time": "2024-10-09T11:35:27.565738900Z"
    }
   },
   "id": "43fa553e8104e802"
  },
  {
   "cell_type": "code",
   "execution_count": 28,
   "outputs": [],
   "source": [
    "def euler_method(t_p: float, t_k: float, h: float, x_0: float, fun: callable):\n",
    "    \"\"\"\n",
    "     Function to calculate the fixed points using the Euler method\n",
    "      \n",
    "    Args:\n",
    "       t_p: start time\n",
    "       t_k: end time\n",
    "       h: step\n",
    "       x_0: starting point\n",
    "       fun: differential equation\n",
    "  \n",
    "    Returns: time points, fixed points\n",
    "  \n",
    "    \"\"\"\n",
    "    t_euler = np.arange(t_p, t_k, h)\n",
    "    x_euler = [x_0] * len(t_euler)\n",
    "    for idx in range(1, len(t_euler)):\n",
    "        x_euler[idx] = x_euler[idx - 1] + h * fun(x_euler[idx - 1])\n",
    "    return t_euler, x_euler, x_euler[-1]"
   ],
   "metadata": {
    "collapsed": false,
    "ExecuteTime": {
     "end_time": "2024-10-09T11:52:07.758470900Z",
     "start_time": "2024-10-09T11:52:07.753855100Z"
    }
   },
   "id": "fa2a7ab0fc981319"
  },
  {
   "cell_type": "code",
   "execution_count": 27,
   "outputs": [],
   "source": [
    "def modified_euler(t_p, t_k, h, x_0, fun):\n",
    "    \"\"\"\n",
    "    Function to calculate the fixed points using the modified Euler method\n",
    "    Args:\n",
    "      t_p: start time\n",
    "      t_k: end time\n",
    "      h: step size\n",
    "      x_0: starting point\n",
    "      fun: function to calculate the value of the differential equation\n",
    "  \n",
    "    Returns:\n",
    "  \n",
    "    \"\"\"\n",
    "    t_mod = np.arange(t_p, t_k, h)\n",
    "    x_mod = [x_0] * len(t_mod)\n",
    "    for t in range(1, len(t_mod)):\n",
    "        x_mod[t] = x_mod[t - 1] + h * fun(x_mod[t - 1] + (h / 2) * fun(x_mod[t - 1]))\n",
    "    return t_mod, x_mod, x_mod[-1]"
   ],
   "metadata": {
    "collapsed": false,
    "ExecuteTime": {
     "end_time": "2024-10-09T11:52:03.895731200Z",
     "start_time": "2024-10-09T11:52:03.884841900Z"
    }
   },
   "id": "423f30c4368604a2"
  },
  {
   "cell_type": "code",
   "execution_count": 21,
   "outputs": [
    {
     "data": {
      "text/plain": "[1.4,\n 1.3663999999999998,\n 1.3346788818943998,\n 1.3049597303210705,\n 1.277299896111273,\n 1.2517022104952804,\n 1.2281266236998007,\n 1.2065011723486425,\n 1.1867316325738386,\n 1.1687095782927466,\n 1.1523188172169878,\n 1.1374403307194094,\n 1.123955920295114,\n 1.1117507874070116,\n 1.1007152657147252,\n 1.0907459003251414,\n 1.0817460378938337,\n 1.073626060197072,\n 1.0663033653680754,\n 1.0597021766941275,\n 1.0537532389694797,\n 1.048393446590914,\n 1.0435654353173198,\n 1.039217160274987,\n 1.0353014757905012,\n 1.0317757274608645,\n 1.0286013630999884,\n 1.0257435664900938,\n 1.023170915947596,\n 1.020855068379261,\n 1.0187704685989096,\n 1.0168940830798612,\n 1.015205156945973,\n 1.0136849927897353,\n 1.012316749801976,\n 1.0110852616697374,\n 1.0099768717218138,\n 1.0089792838573877,\n 1.0080814278694046,\n 1.0072733378618464]"
     },
     "execution_count": 21,
     "metadata": {},
     "output_type": "execute_result"
    }
   ],
   "source": [
    "euler_method(0, 4, 0.1, 1.4, diff_equ)[1]"
   ],
   "metadata": {
    "collapsed": false,
    "ExecuteTime": {
     "end_time": "2024-10-09T11:45:01.095344100Z",
     "start_time": "2024-10-09T11:45:01.084959500Z"
    }
   },
   "id": "c83692c2dd8899cf"
  },
  {
   "cell_type": "code",
   "execution_count": 22,
   "outputs": [
    {
     "data": {
      "text/plain": "[1.4,\n 1.3673069946368,\n 1.33650492969509,\n 1.307672169395556,\n 1.28083229550946,\n 1.2559651740687565,\n 1.233017406138082,\n 1.2119115838448424,\n 1.19255409731557,\n 1.1748414612914695,\n 1.1586652655069443,\n 1.1439159218100656,\n 1.1304854047570878,\n 1.1182691785237584,\n 1.1071674842396306,\n 1.0970861367992604,\n 1.0879369540439923,\n 1.0796379168003538,\n 1.072113136933336,\n 1.0652926927241113,\n 1.0591123763963872,\n 1.0535133871281592,\n 1.048441993939663,\n 1.0438491859849433,\n 1.0396903225762515,\n 1.0359247913793634,\n 1.0325156803379694,\n 1.02942946677847,\n 1.0266357256248972,\n 1.0241068575711507,\n 1.0218178373019555,\n 1.0197459813393446,\n 1.017870734753402,\n 1.0161734757659506,\n 1.0146373371576218,\n 1.0132470433354763,\n 1.0119887619102539,\n 1.0108499686549308,\n 1.0098193247589848,\n 1.0088865653480275]"
     },
     "execution_count": 22,
     "metadata": {},
     "output_type": "execute_result"
    }
   ],
   "source": [
    "modified_euler(0, 4, 0.1, 1.4, diff_equ)[1]"
   ],
   "metadata": {
    "collapsed": false,
    "ExecuteTime": {
     "end_time": "2024-10-09T11:45:05.618203200Z",
     "start_time": "2024-10-09T11:45:05.608640400Z"
    }
   },
   "id": "6fba326cf8c9334e"
  },
  {
   "cell_type": "code",
   "execution_count": 40,
   "outputs": [],
   "source": [
    "def get_data(starting_points:list, method:callable):\n",
    "    \"\"\"\n",
    "    Function to calculate the fixed points for different starting points\n",
    "    Args:\n",
    "       starting_points: list of different starting points\n",
    "       method: type of numerical method to calculate the fixed points\n",
    "  \n",
    "    Returns: DataFrame with fixed points for different starting points\n",
    "  \n",
    "    \"\"\"\n",
    "    result = []\n",
    "    for starting_point in starting_points:\n",
    "        result.append(method(0, 4, 0.01, starting_point, diff_equ)[2])\n",
    "    data = {\"point\": starting_points, \"wynik\": result}\n",
    "    df = pd.DataFrame(data)\n",
    "    return df"
   ],
   "metadata": {
    "collapsed": false,
    "ExecuteTime": {
     "end_time": "2024-10-09T11:55:46.468371700Z",
     "start_time": "2024-10-09T11:55:46.446477600Z"
    }
   },
   "id": "ee877dd48bc94ab7"
  },
  {
   "cell_type": "code",
   "execution_count": 50,
   "outputs": [
    {
     "data": {
      "text/plain": "      point     wynik\n0 -0.000001 -0.002933\n1  0.991000  0.999833\n2  1.999999  1.997092",
      "text/html": "<div>\n<style scoped>\n    .dataframe tbody tr th:only-of-type {\n        vertical-align: middle;\n    }\n\n    .dataframe tbody tr th {\n        vertical-align: top;\n    }\n\n    .dataframe thead th {\n        text-align: right;\n    }\n</style>\n<table border=\"1\" class=\"dataframe\">\n  <thead>\n    <tr style=\"text-align: right;\">\n      <th></th>\n      <th>point</th>\n      <th>wynik</th>\n    </tr>\n  </thead>\n  <tbody>\n    <tr>\n      <th>0</th>\n      <td>-0.000001</td>\n      <td>-0.002933</td>\n    </tr>\n    <tr>\n      <th>1</th>\n      <td>0.991000</td>\n      <td>0.999833</td>\n    </tr>\n    <tr>\n      <th>2</th>\n      <td>1.999999</td>\n      <td>1.997092</td>\n    </tr>\n  </tbody>\n</table>\n</div>"
     },
     "execution_count": 50,
     "metadata": {},
     "output_type": "execute_result"
    }
   ],
   "source": [
    "get_data([-0.000001, 0.991, 1.999999], modified_euler)"
   ],
   "metadata": {
    "collapsed": false,
    "ExecuteTime": {
     "end_time": "2024-10-09T12:16:39.148423900Z",
     "start_time": "2024-10-09T12:16:39.135615Z"
    }
   },
   "id": "2a690d4b611f9a29"
  },
  {
   "cell_type": "code",
   "execution_count": 45,
   "outputs": [
    {
     "data": {
      "text/plain": "<Figure size 1000x500 with 1 Axes>",
      "image/png": "[encoded data removed]"
     },
     "metadata": {},
     "output_type": "display_data"
    }
   ],
   "source": [
    "plt.figure(figsize=(10, 5))\n",
    "for point in [0.0001, 0.91, 1.999]:\n",
    "    time, fixed_points = modified_euler(0, 4, 0.01, point, diff_equ)[:2]\n",
    "    plt.plot(time, fixed_points, label=f\"x$_0$: {point}\")\n",
    "plt.axhline(0, color='grey', lw=0.5, ls='--')\n",
    "plt.axhline(1, color='grey', lw=0.5, ls='--')\n",
    "plt.axhline(2, color='grey', lw=0.5, ls='--')\n",
    "plt.legend()\n",
    "plt.grid()\n",
    "plt.show()"
   ],
   "metadata": {
    "collapsed": false,
    "ExecuteTime": {
     "end_time": "2024-10-09T12:14:17.467273200Z",
     "start_time": "2024-10-09T12:14:17.255561700Z"
    }
   },
   "id": "c3bc798513c392e0"
  },
  {
   "cell_type": "markdown",
   "source": [
    "Stability analysis: x* = 1.0 is a stable point, x* = 0.0 and x* = 2.0 are unstable points."
   ],
   "metadata": {
    "collapsed": false
   },
   "id": "c810d7385a3bf31b"
  },
  {
   "cell_type": "markdown",
   "source": [
    "# Exercise 2"
   ],
   "metadata": {
    "collapsed": false
   },
   "id": "27fff0e48c7df014"
  },
  {
   "cell_type": "code",
   "execution_count": 53,
   "outputs": [],
   "source": [
    "def RK4_method(t_p: int, t_k: int, h: float, x_0: float, fun: callable):\n",
    "    \"\"\"\n",
    "    Function to calculate the fixed points using the Runge-Kutta method\n",
    "    Args:\n",
    "      t_p: start time\n",
    "      t_k: end time\n",
    "      h: step size\n",
    "      x_0: starting point\n",
    "      fun: function to calculate the value of the differential equation\n",
    "  \n",
    "    Returns: fixed points, time points, last fixed point\n",
    "  \n",
    "    \"\"\"\n",
    "    t_RK4 = np.arange(t_p, t_k, h)\n",
    "    x_RK4 = [x_0] * len(t_RK4)\n",
    "    for t in range(len(t_RK4)):\n",
    "        k1 = fun(x_RK4[t - 1])\n",
    "        k2 = fun(x_RK4[t - 1] + (h * k1 / 2))\n",
    "        k3 = fun(x_RK4[t - 1] + (h * k2 / 2))\n",
    "        k4 = fun(x_RK4[t - 1] + (h * k3))\n",
    "        x_RK4[t] = x_RK4[t - 1] + h * (k1 + 2 * k2 + 2 * k3 + k4) / 6\n",
    "    return t_RK4, x_RK4, x_RK4[-1]"
   ],
   "metadata": {
    "collapsed": false,
    "ExecuteTime": {
     "end_time": "2024-10-09T12:24:18.339279200Z",
     "start_time": "2024-10-09T12:24:18.326460600Z"
    }
   },
   "id": "e1d3c562a068fefb"
  },
  {
   "cell_type": "code",
   "execution_count": 54,
   "outputs": [
    {
     "data": {
      "text/plain": "[1.3673005987877707,\n 1.33648720390051,\n 1.3076395888093117,\n 1.2807827611079179,\n 1.2558978738371265,\n 1.2329325913376386,\n 1.2118103157658064,\n 1.1924380020425982,\n 1.1747125140443297,\n 1.1585256140131692,\n 1.1437677501048615,\n 1.1303308341195506,\n 1.1181102000247256,\n 1.1070059167366586,\n 1.0969236044975639,\n 1.0877748784814212,\n 1.0794775190136068,\n 1.071955446451817,\n 1.0651385608319623,\n 1.0589624917694922,\n 1.0533682924881906,\n 1.0483021027834265,\n 1.043714798762291,\n 1.0395616419227163,\n 1.035801936177968,\n 1.0323986985034586,\n 1.0293183467388183,\n 1.026530406529119,\n 1.0240072382867202,\n 1.0217237842852418,\n 1.0196573354726435,\n 1.017787317245548,\n 1.0160950932123778,\n 1.0145637858517584,\n 1.0131781129176554,\n 1.0119242384337,\n 1.010789637141393,\n 1.0097629713096001,\n 1.0088339788682343,\n 1.0079933718917313]"
     },
     "execution_count": 54,
     "metadata": {},
     "output_type": "execute_result"
    }
   ],
   "source": [
    "RK4_method(0, 4, 0.1, 1.4, diff_equ)[1]"
   ],
   "metadata": {
    "collapsed": false,
    "ExecuteTime": {
     "end_time": "2024-10-09T12:24:20.424255400Z",
     "start_time": "2024-10-09T12:24:20.416065500Z"
    }
   },
   "id": "bf4d7d98f5b34066"
  },
  {
   "cell_type": "code",
   "execution_count": null,
   "outputs": [],
   "source": [],
   "metadata": {
    "collapsed": false
   },
   "id": "36c767f3b9a16720"
  }
 ],
 "metadata": {
  "kernelspec": {
   "display_name": "Python 3",
   "language": "python",
   "name": "python3"
  },
  "language_info": {
   "codemirror_mode": {
    "name": "ipython",
    "version": 2
   },
   "file_extension": ".py",
   "mimetype": "text/x-python",
   "name": "python",
   "nbconvert_exporter": "python",
   "pygments_lexer": "ipython2",
   "version": "2.7.6"
  }
 },
 "nbformat": 4,
 "nbformat_minor": 5
}
